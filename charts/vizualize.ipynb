{
 "cells": [
  {
   "cell_type": "code",
   "execution_count": null,
   "metadata": {},
   "outputs": [],
   "source": [
    "from config.database import PRODUCTION_HISTORY_DB_NAME, PRODUCTION_HISTORY_COLLECTION_NAME\n",
    "from database.main import mongo_handler\n",
    "\n",
    "query = {\"reference\": \"SADALES_TIKLS_lv_producer_43X-STJ02620895C_43Z-STO01766085R_12624502\"}\n",
    "historical_data = mongo_handler.retrieve_data(\n",
    "    PRODUCTION_HISTORY_DB_NAME, PRODUCTION_HISTORY_COLLECTION_NAME, query)\n",
    "print(\"historical data\", historical_data)\n"
   ]
  }
 ],
 "metadata": {
  "language_info": {
   "name": "python"
  }
 },
 "nbformat": 4,
 "nbformat_minor": 2
}
